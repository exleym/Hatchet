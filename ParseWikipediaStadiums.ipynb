{
 "cells": [
  {
   "cell_type": "code",
   "execution_count": 10,
   "metadata": {},
   "outputs": [],
   "source": [
    "from bs4 import BeautifulSoup\n",
    "import requests\n",
    "\n",
    "URL = \"https://en.wikipedia.org/wiki/List_of_NCAA_Division_I_FBS_football_stadiums\"\n",
    "resp = requests.get(URL)  # requests library abstracts all HTTP work"
   ]
  },
  {
   "cell_type": "code",
   "execution_count": 54,
   "metadata": {},
   "outputs": [],
   "source": [
    "soup = BeautifulSoup(resp.content, \"html.parser\")  # Make a soup from html response\n",
    "table = soup.find_all(\"table\", class_=\"wikitable\") \n",
    "stadiums = table[0]  # In this case, the table we're looking for is the first one\n",
    "\n",
    "# Loop through all <tr> elements in the \n",
    "columns = [x.contents[0].replace('\\n', '') for x in stadiums.tbody.tr if x.string != '\\n' and x.string]"
   ]
  },
  {
   "cell_type": "code",
   "execution_count": 99,
   "metadata": {
    "scrolled": false
   },
   "outputs": [],
   "source": [
    "stadiums = table[0]\n",
    "url = 'http://localhost:5000/api/v1/stadiums'\n",
    "\n",
    "for stadium in stadiums.tbody.find_all('tr')[1:]:\n",
    "    tags = stadium.find_all('td')\n",
    "    for ix, tag in enumerate(tags[1:]):\n",
    "        x = tag.children.__next__()\n",
    "        if ix == 0:\n",
    "            data = {'name': x.string}\n",
    "        elif ix == 5:\n",
    "            data['capacity'] = int(x.string[4:][:-11])\n",
    "        elif ix == 7:\n",
    "            data['built'] = int(x.string[:4])\n",
    "    resp = requests.post(url, json=data)\n",
    "    if resp.status_code != 201:\n",
    "        print(resp)"
   ]
  },
  {
   "cell_type": "code",
   "execution_count": null,
   "metadata": {},
   "outputs": [],
   "source": []
  }
 ],
 "metadata": {
  "kernelspec": {
   "display_name": "Python 3",
   "language": "python",
   "name": "python3"
  },
  "language_info": {
   "codemirror_mode": {
    "name": "ipython",
    "version": 3
   },
   "file_extension": ".py",
   "mimetype": "text/x-python",
   "name": "python",
   "nbconvert_exporter": "python",
   "pygments_lexer": "ipython3",
   "version": "3.6.4"
  }
 },
 "nbformat": 4,
 "nbformat_minor": 2
}
